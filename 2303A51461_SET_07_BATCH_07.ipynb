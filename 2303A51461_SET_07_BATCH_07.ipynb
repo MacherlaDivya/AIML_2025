{
  "nbformat": 4,
  "nbformat_minor": 0,
  "metadata": {
    "colab": {
      "provenance": [],
      "authorship_tag": "ABX9TyOz9WdWVU39c2b1N0sLg2Ia",
      "include_colab_link": true
    },
    "kernelspec": {
      "name": "python3",
      "display_name": "Python 3"
    },
    "language_info": {
      "name": "python"
    }
  },
  "cells": [
    {
      "cell_type": "markdown",
      "metadata": {
        "id": "view-in-github",
        "colab_type": "text"
      },
      "source": [
        "<a href=\"https://colab.research.google.com/github/MacherlaDivya/AIML_2025/blob/main/2303A51461_SET_07_BATCH_07.ipynb\" target=\"_parent\"><img src=\"https://colab.research.google.com/assets/colab-badge.svg\" alt=\"Open In Colab\"/></a>"
      ]
    },
    {
      "cell_type": "markdown",
      "source": [
        "Prediction of Room Occupancy Estimation\n",
        "\n",
        "Q1.Identify the max and min sound,light values liked by most customers?\n",
        "\n",
        "Q2.Identify the data and time when room occupancy was the most?\n",
        "\n",
        "Q3.Predict the temparature most suitable for most room occupancy?\n",
        "\n",
        "Q4.What levels of C02 is suitable and not suitable for room occupancy?\n",
        "\n",
        "Q5.Does motion sensors contribute to increase or decrease of in room occupancy"
      ],
      "metadata": {
        "id": "1Ift_4WYTS9L"
      }
    },
    {
      "cell_type": "code",
      "source": [
        " import pandas as pd\n",
        "\n",
        "data = pd.read_csv('/content/room+occupancy+estimation.zip')\n",
        "\n",
        "occupied_data = data[data['Room_Occupancy_Count'] > 0]\n",
        "\n",
        "sound_stats = occupied_data[['S1_Sound', 'S2_Sound', 'S3_Sound', 'S4_Sound']].describe().loc[['min', 'max']]\n",
        "light_stats = occupied_data[['S1_Light', 'S2_Light', 'S3_Light', 'S4_Light']].describe().loc[['min', 'max']]\n",
        "\n",
        "print(\"Sound Levels (Min & Max):\")\n",
        "print(sound_stats)\n",
        "\n",
        "print(\"\\nLight Levels (Min & Max):\")\n",
        "print(light_stats)"
      ],
      "metadata": {
        "id": "xOpyhsDLYa95",
        "colab": {
          "base_uri": "https://localhost:8080/"
        },
        "outputId": "7b38abb8-142e-41bf-b346-2d3ca4520772"
      },
      "execution_count": null,
      "outputs": [
        {
          "output_type": "stream",
          "name": "stdout",
          "text": [
            "Sound Levels (Min & Max):\n",
            "     S1_Sound  S2_Sound  S3_Sound  S4_Sound\n",
            "min      0.06      0.04      0.05      0.05\n",
            "max      3.84      3.44      3.67      3.40\n",
            "\n",
            "Light Levels (Min & Max):\n",
            "     S1_Light  S2_Light  S3_Light  S4_Light\n",
            "min       0.0       0.0       0.0       0.0\n",
            "max     165.0     258.0     280.0      74.0\n"
          ]
        }
      ]
    },
    {
      "cell_type": "code",
      "source": [
        "max_occupancy = data['Room_Occupancy_Count'].max()\n",
        "max_occupancy_timestamps = data[data['Room_Occupancy_Count'] == max_occupancy][['Date', 'Time']]\n",
        "\n",
        "print(f\"Maximum Occupancy: {max_occupancy}\")\n",
        "print(\"\\nDate and Time of Maximum Occupancy:\")\n",
        "print(max_occupancy_timestamps)"
      ],
      "metadata": {
        "colab": {
          "base_uri": "https://localhost:8080/"
        },
        "id": "3-9xpvnHZ5TD",
        "outputId": "6f8913ee-7654-4be6-f21c-c98c43eb0b13"
      },
      "execution_count": null,
      "outputs": [
        {
          "output_type": "stream",
          "name": "stdout",
          "text": [
            "Maximum Occupancy: 3\n",
            "\n",
            "Date and Time of Maximum Occupancy:\n",
            "            Date      Time\n",
            "191   2017/12/22  12:30:16\n",
            "192   2017/12/22  12:30:47\n",
            "193   2017/12/22  12:31:17\n",
            "194   2017/12/22  12:31:48\n",
            "195   2017/12/22  12:32:19\n",
            "...          ...       ...\n",
            "8280  2018/01/10  17:06:54\n",
            "8281  2018/01/10  17:07:55\n",
            "8282  2018/01/10  17:08:26\n",
            "8338  2018/01/10  17:37:01\n",
            "8339  2018/01/10  17:37:32\n",
            "\n",
            "[694 rows x 2 columns]\n"
          ]
        }
      ]
    },
    {
      "cell_type": "code",
      "source": [
        "high_occupancy_data = data[data['Room_Occupancy_Count'] == max_occupancy]\n",
        "average_temps = high_occupancy_data[['S1_Temp', 'S2_Temp', 'S3_Temp', 'S4_Temp']].mean()\n",
        "\n",
        "print(\"Average Temperatures (most suitable):\")\n",
        "print(average_temps)"
      ],
      "metadata": {
        "colab": {
          "base_uri": "https://localhost:8080/"
        },
        "id": "O-j1APCZZ8Ym",
        "outputId": "926d9317-ff01-45ed-eda0-37e07753a0e8"
      },
      "execution_count": null,
      "outputs": [
        {
          "output_type": "stream",
          "name": "stdout",
          "text": [
            "Average Temperatures (most suitable):\n",
            "S1_Temp    26.066023\n",
            "S2_Temp    26.719035\n",
            "S3_Temp    25.827954\n",
            "S4_Temp    26.187378\n",
            "dtype: float64\n"
          ]
        }
      ]
    },
    {
      "cell_type": "code",
      "source": [
        "co2_occupied = occupied_data['S5_CO2']\n",
        "co2_non_occupied = data[data['Room_Occupancy_Count'] == 0]['S5_CO2']\n",
        "\n",
        "print(\"CO2 Levels During Occupancy:\")\n",
        "print(co2_occupied.describe())\n",
        "\n",
        "print(\"\\nCO2 Levels During Non-Occupancy:\")\n",
        "print(co2_non_occupied.describe())"
      ],
      "metadata": {
        "colab": {
          "base_uri": "https://localhost:8080/"
        },
        "id": "e89m5e0UZ_Ad",
        "outputId": "b9c5c13c-4f2e-42bb-b60e-13814fd28833"
      },
      "execution_count": null,
      "outputs": [
        {
          "output_type": "stream",
          "name": "stdout",
          "text": [
            "CO2 Levels During Occupancy:\n",
            "count    1901.000000\n",
            "mean      705.034193\n",
            "std       244.105265\n",
            "min       360.000000\n",
            "25%       495.000000\n",
            "50%       655.000000\n",
            "75%       880.000000\n",
            "max      1270.000000\n",
            "Name: S5_CO2, dtype: float64\n",
            "\n",
            "CO2 Levels During Non-Occupancy:\n",
            "count    8228.000000\n",
            "mean      404.446403\n",
            "std       136.031372\n",
            "min       345.000000\n",
            "25%       355.000000\n",
            "50%       355.000000\n",
            "75%       365.000000\n",
            "max      1255.000000\n",
            "Name: S5_CO2, dtype: float64\n"
          ]
        }
      ]
    },
    {
      "cell_type": "code",
      "source": [
        "pir_data = data.groupby(['S6_PIR', 'S7_PIR'])['Room_Occupancy_Count'].mean().reset_index()\n",
        "\n",
        "if pir_data['Room_Occupancy_Count'].corr(pir_data['S6_PIR']) > 0 or pir_data['Room_Occupancy_Count'].corr(pir_data['S7_PIR'])>0:\n",
        "    print(\"Motion detected correlates with Occupancy increament\")\n",
        "else :\n",
        "    print(\"Motion decreases occupancy log at times \")"
      ],
      "metadata": {
        "id": "VYd5vIa_aBb2",
        "outputId": "e1648cbe-a945-4284-9266-0b4ada7db54c",
        "colab": {
          "base_uri": "https://localhost:8080/"
        }
      },
      "execution_count": null,
      "outputs": [
        {
          "output_type": "stream",
          "name": "stdout",
          "text": [
            "Motion detected correlates with Occupancy increament\n"
          ]
        }
      ]
    }
  ]
}