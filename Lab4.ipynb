{
  "nbformat": 4,
  "nbformat_minor": 0,
  "metadata": {
    "colab": {
      "provenance": [],
      "authorship_tag": "ABX9TyPH6sERv9Py5HV74SwIuuyG",
      "include_colab_link": true
    },
    "kernelspec": {
      "name": "python3",
      "display_name": "Python 3"
    },
    "language_info": {
      "name": "python"
    }
  },
  "cells": [
    {
      "cell_type": "markdown",
      "metadata": {
        "id": "view-in-github",
        "colab_type": "text"
      },
      "source": [
        "<a href=\"https://colab.research.google.com/github/MacherlaDivya/AIML_2025/blob/main/Lab4.ipynb\" target=\"_parent\"><img src=\"https://colab.research.google.com/assets/colab-badge.svg\" alt=\"Open In Colab\"/></a>"
      ]
    },
    {
      "cell_type": "code",
      "execution_count": 1,
      "metadata": {
        "id": "gTk2eFoBvF19"
      },
      "outputs": [],
      "source": [
        "import numpy as np\n",
        "import pandas as pd\n",
        "import matplotlib.pyplot as plt\n",
        "import seaborn as sns\n",
        "%matplotlib inline"
      ]
    },
    {
      "cell_type": "code",
      "source": [
        "df = pd.read_csv(\"/content/sample_data/california_housing_train.csv\")\n",
        "df.head()"
      ],
      "metadata": {
        "id": "at9usD-7vWZ5"
      },
      "execution_count": null,
      "outputs": []
    },
    {
      "cell_type": "markdown",
      "source": [
        "#'info()'method to check the data type and *number*"
      ],
      "metadata": {
        "id": "wsbLcPwNvcWW"
      }
    },
    {
      "cell_type": "code",
      "source": [
        "df.info(verbose=True)"
      ],
      "metadata": {
        "id": "wocF-9awvdYv"
      },
      "execution_count": null,
      "outputs": []
    },
    {
      "cell_type": "markdown",
      "source": [
        "'describe()' method to get the staistical of the various features of the data set"
      ],
      "metadata": {
        "id": "G4EMxeWLxwqx"
      }
    },
    {
      "cell_type": "code",
      "source": [
        "df.describe(percentiles= [0.1,0.25,0.5,0.75,0.9])"
      ],
      "metadata": {
        "id": "OxW-mrWpxkLx"
      },
      "execution_count": null,
      "outputs": []
    },
    {
      "cell_type": "markdown",
      "source": [
        "'column' method to get the names of the column\n"
      ],
      "metadata": {
        "id": "QPRFY3O5yGga"
      }
    },
    {
      "cell_type": "code",
      "source": [
        "df.columns\n"
      ],
      "metadata": {
        "id": "B-msPOImyHVZ"
      },
      "execution_count": null,
      "outputs": []
    },
    {
      "cell_type": "markdown",
      "source": [
        "Basic plotting and visualisation on the data set\n"
      ],
      "metadata": {
        "id": "-6kTGla3yQg8"
      }
    },
    {
      "cell_type": "code",
      "source": [
        "sns.pairplot(df)"
      ],
      "metadata": {
        "id": "qcRzLfwYyRhn"
      },
      "execution_count": null,
      "outputs": []
    },
    {
      "cell_type": "markdown",
      "source": [
        "istubuting of house price(the predicted quantity)"
      ],
      "metadata": {
        "id": "BFveX8laylRk"
      }
    },
    {
      "cell_type": "code",
      "source": [
        "df['median_house_value'].plot.hist(bins=25,figsize=(8,4))"
      ],
      "metadata": {
        "id": "Dh7PiWGxymMY"
      },
      "execution_count": null,
      "outputs": []
    },
    {
      "cell_type": "code",
      "source": [
        "##plot the density of Housing Prices\n",
        "df['median_house_value'].plot.density()\n",
        "plt.title(\"Density of House Prices\")\n",
        "plt.xlabel(\"House Prices\")\n",
        "plt.ylabel(\"Density\")"
      ],
      "metadata": {
        "id": "OJy1LpeFyvov"
      },
      "execution_count": null,
      "outputs": []
    },
    {
      "cell_type": "markdown",
      "source": [
        "correlation matrix and heatmap\n"
      ],
      "metadata": {
        "id": "4Gzjqb42zT3X"
      }
    },
    {
      "cell_type": "code",
      "source": [
        "df.corr()"
      ],
      "metadata": {
        "id": "fhDnxn_BzXrh"
      },
      "execution_count": null,
      "outputs": []
    },
    {
      "cell_type": "code",
      "source": [
        "plt.figure(figsize=(10,7))\n",
        "sns.heatmap(df.corr(),annot=True,linewidth=2)"
      ],
      "metadata": {
        "id": "czHfXhgkzb07"
      },
      "execution_count": null,
      "outputs": []
    },
    {
      "cell_type": "markdown",
      "source": [
        "##Feature and varaible sets\n",
        "Make a list of data frame column names"
      ],
      "metadata": {
        "id": "eGd2aR6czmaO"
      }
    },
    {
      "cell_type": "code",
      "source": [
        "##numerical columns\n",
        "print(\"Numerical Column:\",df.columns[2:7])\n",
        "##Non numerical Columns\n",
        "print(\"Non Numerical Column:\",df.columns[0:2])"
      ],
      "metadata": {
        "id": "DZ7gQO3OznZT"
      },
      "execution_count": null,
      "outputs": []
    },
    {
      "cell_type": "code",
      "source": [
        "## Y = MX + C where Y is independent, X is independent features\n",
        "## M is slope , C is intercept\n",
        "l_column = list(df.columns) #Making a list out of column names\n",
        "len_feature = len(l_column)\n",
        "l_column, len_feature"
      ],
      "metadata": {
        "id": "jLS6laPMzsKm"
      },
      "execution_count": null,
      "outputs": []
    },
    {
      "cell_type": "code",
      "source": [
        "x = df[l_column[2:len_feature-1]]\n",
        "y = df[l_column[len_feature-1]]"
      ],
      "metadata": {
        "id": "3uPsjmxZzwFM"
      },
      "execution_count": 13,
      "outputs": []
    },
    {
      "cell_type": "code",
      "source": [
        "print(\"Feature set size:\",x.shape)\n",
        "print(\"Variable set size:\",y.shape)"
      ],
      "metadata": {
        "id": "iTdCWABkzz78"
      },
      "execution_count": null,
      "outputs": []
    },
    {
      "cell_type": "code",
      "source": [
        "x.head()"
      ],
      "metadata": {
        "id": "jAOVoN_Az2ip"
      },
      "execution_count": null,
      "outputs": []
    },
    {
      "cell_type": "code",
      "source": [
        "y.head()"
      ],
      "metadata": {
        "id": "-QFt3RJ9z4lk"
      },
      "execution_count": null,
      "outputs": []
    },
    {
      "cell_type": "markdown",
      "source": [
        "##Part-02 Test-Train Split\n",
        "\n",
        "Import train_test_split function from scikit-learn"
      ],
      "metadata": {
        "id": "pA00Z-yqz8_G"
      }
    },
    {
      "cell_type": "code",
      "source": [
        "from sklearn.model_selection import train_test_split"
      ],
      "metadata": {
        "id": "8FEnJyPtz-ki"
      },
      "execution_count": 17,
      "outputs": []
    },
    {
      "cell_type": "markdown",
      "source": [
        "Create X and y train and test speed into 80-20 ratio in one command using a ratio and a random seed"
      ],
      "metadata": {
        "id": "HXTj8_TN0GhL"
      }
    },
    {
      "cell_type": "code",
      "source": [
        "##Dataset split into 80-20 ratio\n",
        "X_train, X_test, y_train, y_test = train_test_split(x, y, test_size=0.2, random_state=123)"
      ],
      "metadata": {
        "id": "T5W6qMBz0HNL"
      },
      "execution_count": 18,
      "outputs": []
    },
    {
      "cell_type": "code",
      "source": [
        "y_train.shape, y_test.shape, X_train.shape, X_test.shape"
      ],
      "metadata": {
        "id": "X_GzxNnj4mgx"
      },
      "execution_count": null,
      "outputs": []
    },
    {
      "cell_type": "markdown",
      "source": [
        "Check the size and shape of train/test splits(it should be in the ratio as per\n",
        "\n",
        "test_size parameter above)"
      ],
      "metadata": {
        "id": "tUKXxEI94xCu"
      }
    },
    {
      "cell_type": "code",
      "source": [
        "print(\"training feature set size:\",X_train.shape)\n",
        "print(\"training target set size:\",y_train.shape)\n",
        "print(\"testing feature set size:\",X_test.shape)\n",
        "print(\"testing target set size:\",y_test.shape)"
      ],
      "metadata": {
        "id": "imYsgfdh4yKD"
      },
      "execution_count": null,
      "outputs": []
    }
  ]
}